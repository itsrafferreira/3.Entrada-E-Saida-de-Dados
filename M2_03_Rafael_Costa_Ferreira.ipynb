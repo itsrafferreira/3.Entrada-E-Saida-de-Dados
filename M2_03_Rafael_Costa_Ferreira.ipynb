{
 "cells": [
  {
   "cell_type": "markdown",
   "metadata": {},
   "source": [
    "# Exercícios Módulo 2. Entrada e saída de dados (Soluções)\n",
    "\n",
    "Considerações a ter em conta:\n",
    "\n",
    "* Guardar este documento com o seguinte formato para entrega: __M2_04_nome_apelido1_apelido2__\n",
    "* Fazer os exercícios com as ferramentas vistas nas sessões. Ainda não chegámos às condicionais nem ciclos \n",
    "* Comentar o código\n",
    "* Utilizar nomes de variáveis apropriados, se vai guardar uma nota, chamar a essa variável nota, não n ou x"
   ]
  },
  {
   "cell_type": "markdown",
   "metadata": {},
   "source": [
    "**1) Utilizar o método input() para fazer as seguintes tarefas:**\n",
    "\n",
    "* Pedir um número por teclado, mostrar o resultado e o tipo (para saber em que tipo de dado captura a informação input()) \n",
    "* Pedir um número por teclado e assegurar que capturamos a informação em formato int\n",
    "* Pedir um número por teclado e assegurar-se de que capturamos a informação en formato float"
   ]
  },
  {
   "cell_type": "code",
   "execution_count": 1,
   "metadata": {},
   "outputs": [],
   "source": [
    "#Pedir um número por teclado, mostrar o resultado e o tipo\n",
    "numero = input(\"Digite um número: \")\n",
    "print(\"Você digitou:\", numero)\n",
    "print(\"Tipo de dado:\", type(numero))\n",
    "\n",
    "#Pedir um número por teclado e assegurar que capturamos a informação em formato int\n",
    "numero_str = input(\"Digite um número inteiro: \")\n",
    "numero_int = int(numero_str)\n",
    "print(\"Você digitou:\", numero_int)\n",
    "print(\"Tipo de dado:\", type(numero_int))\n",
    "\n",
    "#Pedir um número por teclado e assegurar-se de que capturamos a informação en formato float\n",
    "numero_str = input(\"Digite um número em formato float: \")\n",
    "numero_float = float(numero_str)\n",
    "print(\"Você digitou:\", numero_float)\n",
    "print(\"Tipo de dado:\", type(numero_float))"
   ]
  },
  {
   "cell_type": "markdown",
   "metadata": {},
   "source": [
    "**2) Formatar os seguintes valores para mostrar o resultado indicado:**\n",
    "\n",
    "* “Olá Mundo” → Alinhado à direita em 20 caracteres\n",
    "* “Olá Mundo” → Truncagem no quarto carácter (índice 3)\n",
    "* “Olá Mundo” → Alinhamento ao centro em 20 caracteres com truncagem no segundo carácter (índice 1) \n",
    "* 150 → Formatar a 5 números inteiros preenchidos com zeros\n",
    "* 7887 → Formatar a 7 números inteiros preenchidos com espaços\n",
    "* 20.02 → Formatar a 3 números inteiros e 3 números decimais"
   ]
  },
  {
   "cell_type": "code",
   "execution_count": 2,
   "metadata": {},
   "outputs": [],
   "source": [
    "# Alinhar \"Olá Mundo\" à direita em 20 caracteres\n",
    "texto_1 = \"Olá Mundo\"\n",
    "texto_1_formatado = \"{:>20}\".format(texto_1)\n",
    "print(texto_1_formatado)\n",
    "\n",
    "# Truncagem de\"Olá Mundo\" no quarto carácter (índice 3)\n",
    "texto_2 = \"Olá Mundo\"\n",
    "texto_2_formatado = texto_2[:3]\n",
    "print(texto_2_formatado)\n",
    "\n",
    "# Alinhar \"Olá Mundo\" ao centro em 20 caracteres com truncagem no segundo carácter (índice 1)\n",
    "texto_3 = \"Olá Mundo\"\n",
    "texto_3_formatado = \"{:^20}\".format(texto_3[:1])\n",
    "print(texto_3_formatado)\n",
    "\n",
    "# Formatar o número 150 com 5 dígitos inteiros preenchidos com zeros\n",
    "numero_1 = 150\n",
    "numero_1_formatado = \"{:05d}\".format(numero_1)\n",
    "print(numero_1_formatado)\n",
    "\n",
    "# Formatar o número 7887 com 7 dígitos inteiros preenchidos com espaços\n",
    "numero_2 = 7887\n",
    "numero_2_formatado = \"{:7d}\".format(numero_2)\n",
    "print(numero_2_formatado)\n",
    "\n",
    "# Formatar o número 20.02 com 3 dígitos inteiros e 3 dígitos decimais\n",
    "numero_3 = 20.02\n",
    "numero_3_formatado = \"{:06.3f}\".format(numero_3)\n",
    "print(numero_3_formatado)"
   ]
  }
 ],
 "metadata": {
  "anaconda-cloud": {},
  "kernelspec": {
   "display_name": "Python 3 (ipykernel)",
   "language": "python",
   "name": "python3"
  },
  "language_info": {
   "codemirror_mode": {
    "name": "ipython",
    "version": 3
   },
   "file_extension": ".py",
   "mimetype": "text/x-python",
   "name": "python",
   "nbconvert_exporter": "python",
   "pygments_lexer": "ipython3",
   "version": "3.11.5"
  }
 },
 "nbformat": 4,
 "nbformat_minor": 1
}
